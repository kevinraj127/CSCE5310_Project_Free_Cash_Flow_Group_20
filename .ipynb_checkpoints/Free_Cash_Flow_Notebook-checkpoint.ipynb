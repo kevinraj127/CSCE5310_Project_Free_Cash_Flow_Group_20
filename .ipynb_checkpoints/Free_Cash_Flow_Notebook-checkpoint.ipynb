{
 "cells": [
  {
   "cell_type": "code",
   "execution_count": null,
   "metadata": {},
   "outputs": [],
   "source": [
    "# Generate Random CIK Numbers from SEC Website \n",
    "\n",
    "import pandas as pd\n",
    "df = pd.read_csv('https://www.sec.gov/include/ticker.txt', sep=\"\\t\", header=None)\n",
    "random_sample = df.sample(n=85)\n",
    "company_list = random_sample.values.tolist()\n",
    "cik_numbers = []\n",
    "for i in company_list:\n",
    "    cik_numbers.append(i[1])\n",
    "print(cik_numbers)"
   ]
  },
  {
   "cell_type": "code",
   "execution_count": null,
   "metadata": {},
   "outputs": [],
   "source": [
    "# Add 90 Days to 10-Q Filing Date\n",
    "\n",
    "# import pandas, timedelta\n",
    "import pandas as pd\n",
    "from datetime import timedelta\n",
    "   \n",
    "# read csv data\n",
    "df1 = pd.read_csv('10_Q_FILINGS.csv')\n",
    "df1['date.filed'] = pd.to_datetime(df1['date.filed']) \n",
    "df1['90_DAYS'] = df1[\"date.filed\"] + timedelta(days=90)\n",
    "df2 = pd.read_csv('https://www.sec.gov/include/ticker.txt', sep=\"\\t\", header=None)\n",
    "df2.columns = ['ticker', 'cik']\n",
    "df2['ticker'] = df2['ticker'].str.upper()\n",
    "\n",
    "   \n",
    "df_merged = pd.merge(df1, \n",
    "                      df2, \n",
    "                      on ='cik', \n",
    "                      how ='inner')\n",
    "\n",
    "\n",
    "quarterly_df = (df_merged[['cik','company.name', 'ticker', 'date.filed', '90_DAYS']])\n",
    "#quarterly_df.to_csv('90_DAYS.csv')"
   ]
  },
  {
   "cell_type": "code",
   "execution_count": null,
   "metadata": {},
   "outputs": [],
   "source": [
    "# Get Stock Price for Quarterly Date + 90 Days\n",
    "\n",
    "# Import yfinance and matplotlib\n",
    "import yfinance as yf  \n",
    "import matplotlib.pyplot as plt\n",
    "\n",
    "df_ohlc = yf.download(df_merged['ticker'].unique().tolist(), start=df_merged['date.filed'].min())[['Close']]\n",
    "df_ohlc = df_ohlc.stack(level=1).reset_index().rename(columns={'level_1':'ticker'})\n",
    "df_ohlc = df_ohlc.rename(columns = {'Date': 'date.filed'})\n",
    "df_filed_merged = pd.merge(quarterly_df, \n",
    "                      df_ohlc, \n",
    "                      how ='inner',\n",
    "                      on =['date.filed', 'ticker'] )\n",
    "df_filed_merged = df_filed_merged.rename(columns={'Close': 'Filed_Price'})\n",
    "print(df_filed_merged)"
   ]
  },
  {
   "cell_type": "code",
   "execution_count": null,
   "metadata": {},
   "outputs": [],
   "source": [
    "# Import yfinance and matplotlib\n",
    "import yfinance as yf  \n",
    "import matplotlib.pyplot as plt\n",
    "\n",
    "df_ohlc = yf.download(df_merged['ticker'].unique().tolist(), start=df_merged['90_DAYS'].min())[['Close']]\n",
    "df_ohlc = df_ohlc.stack(level=1).reset_index().rename(columns={'level_1':'ticker'})\n",
    "df_ohlc = df_ohlc.rename(columns = {'Date': '90_DAYS'})\n",
    "df_quarterly_merged = pd.merge(df_filed_merged, \n",
    "                      df_ohlc, \n",
    "                      how ='inner',\n",
    "                      on =['90_DAYS', 'ticker'] )\n",
    "df_quarterly_merged = df_quarterly_merged.rename(columns={'Close': '90_Days_Close_Price', 'Filed_Price': 'Filed_Close_Price'})\n",
    "df_quarterly_merged['Price_Change'] = df_quarterly_merged['90_Days_Close_Price'] - df_quarterly_merged['Filed_Close_Price']\n",
    "print(df_quarterly_merged)\n",
    "#df_quarterly_merged.to_csv('stock_prices_90_days.csv')"
   ]
  },
  {
   "cell_type": "code",
   "execution_count": null,
   "metadata": {},
   "outputs": [],
   "source": [
    "#Calculate the Percent Change between the stock price at 10-Q filing date and after 90 days\n",
    "\n",
    "# Import yfinance and matplotlib\n",
    "import pandas as pd\n",
    "import yfinance as yf  \n",
    "import matplotlib.pyplot as plt\n",
    "from datetime import timedelta\n",
    "\n",
    "df1 = pd.read_csv('10_Q_FILINGS.csv')\n",
    "df1['date.filed'] = pd.to_datetime(df1['date.filed']) \n",
    "df1['90_DAYS'] = df1[\"date.filed\"] + timedelta(days=90)\n",
    "df2 = pd.read_csv('https://www.sec.gov/include/ticker.txt', sep=\"\\t\", header=None)\n",
    "df2.columns = ['ticker', 'cik']\n",
    "df2['ticker'] = df2['ticker'].str.upper()\n",
    "\n",
    "   \n",
    "df_merged = pd.merge(df1, \n",
    "                      df2, \n",
    "                      on ='cik', \n",
    "                      how ='inner')\n",
    "\n",
    "\n",
    "quarterly_df = (df_merged[['cik','company.name', 'ticker', 'date.filed', 'period.of.report', '90_DAYS']])\n",
    "\n",
    "df_ohlc = yf.download(df_merged['ticker'].unique().tolist(), start=df_merged['date.filed'].min())[['Close']]\n",
    "df_ohlc = df_ohlc.stack(level=1).reset_index().rename(columns={'level_1':'ticker'})\n",
    "df_ohlc = df_ohlc.rename(columns = {'Date': 'date.filed'})\n",
    "df_filed_merged = pd.merge(quarterly_df, \n",
    "                      df_ohlc, \n",
    "                      how ='inner',\n",
    "                      on =['date.filed', 'ticker'] )\n",
    "df_filed_merged = df_filed_merged.rename(columns={'Close': 'Filed_Price'})\n",
    "\n",
    "df_ohlc = yf.download(df_merged['ticker'].unique().tolist(), start=df_merged['90_DAYS'].min())[['Close']]\n",
    "df_ohlc = df_ohlc.stack(level=1).reset_index().rename(columns={'level_1':'ticker'})\n",
    "df_ohlc = df_ohlc.rename(columns = {'Date': '90_DAYS'})\n",
    "df_quarterly_merged = pd.merge(df_filed_merged, \n",
    "                      df_ohlc, \n",
    "                      how ='inner',\n",
    "                      on =['90_DAYS', 'ticker'] )\n",
    "df_quarterly_merged = df_quarterly_merged.rename(columns={'Close': '90_Days_Close_Price', 'Filed_Price': 'Filed_Close_Price'})\n",
    "df_quarterly_merged['Price_Change'] = df_quarterly_merged['90_Days_Close_Price'] - df_quarterly_merged['Filed_Close_Price']\n",
    "def percentage_change(col1,col2):\n",
    "    return ((col2 - col1) / col1)\n",
    "df_quarterly_merged['Pct_Change_Price'] = percentage_change(df_quarterly_merged['Filed_Close_Price'],df_quarterly_merged['90_Days_Close_Price'])\n",
    "print(df_quarterly_merged)\n",
    "df_quarterly_merged.to_csv('stock_prices_90_days_pct_changev2.csv')"
   ]
  },
  {
   "cell_type": "code",
   "execution_count": null,
   "metadata": {},
   "outputs": [],
   "source": [
    "#Get Free Cash Flow for Sample Companies from MacroTrends financial charts website\n",
    "#Get this dataframe into df_quarterly merged\n",
    "#Create YOY function\n",
    "\"\"\"\n",
    "Created on Tue Apr  5 20:36:06 2022\n",
    "\n",
    "@author: conno\n",
    "\"\"\"\n",
    "from enum import unique\n",
    "from numpy import inner\n",
    "import requests\n",
    "import time\n",
    "import csv\n",
    "import re\n",
    "from bs4 import BeautifulSoup\n",
    "import pandas as pd\n",
    "from datetime import timedelta\n",
    "\n",
    "\n",
    "def getAllFCF(df):\n",
    "    tickers = df['ticker'].unique()\n",
    "    allfcf = pd.DataFrame()\n",
    "    for i in tickers:\n",
    "        url = df.loc[df['ticker'] == i, 'url']\n",
    "        fcf = getFCF(i, url.iloc[0])\n",
    "        fcf['Ticker'] = i\n",
    "        allfcf = allfcf.append(fcf, ignore_index=True)\n",
    "    return allfcf\n",
    "\n",
    "\n",
    "def getFCF(ticker, url):\n",
    "    page = requests.get(\"https://www.macrotrends.net/stocks/charts/\" + ticker + \"/\" + url + \"/free-cash-flow\")\n",
    "    if page.status_code != 200:\n",
    "        return pd.DataFrame()\n",
    "    else:    \n",
    "    \n",
    "        soup = BeautifulSoup(page.content, 'html.parser')\n",
    "        tables = soup.find_all(class_=\"historical_data_table\")\n",
    "        text = tables[1]\n",
    "        \n",
    "\n",
    "        table_rows = text.find_all('tr')\n",
    "\n",
    "        rows = []\n",
    "        for tr in table_rows:\n",
    "            td = tr.find_all('td')\n",
    "            row = [i.text for i in td]\n",
    "            rows.append(row)\n",
    "\n",
    "        df = pd.DataFrame(rows, columns =['Date', 'Value'])\n",
    "        return df\n",
    "\n",
    "def convertCompanyNames(names, df):\n",
    "    lst = []\n",
    "    for i in names:\n",
    "        name = i.lower()\n",
    "        name = name.replace(\" \",\"-\")\n",
    "        lst.append([i,name])\n",
    "        \n",
    "    df2 = pd.DataFrame(lst, columns=[\"company.name\", \"url\"])\n",
    "    return pd.merge(df,df2,on=\"company.name\", how=\"inner\")\n",
    "\n",
    "\n",
    "\n",
    "df1 = pd.read_csv('10_Q_FILINGS.csv')\n",
    "df1['date.filed'] = pd.to_datetime(df1['date.filed']) \n",
    "df1['90_DAYS'] = df1[\"date.filed\"] + timedelta(days=90)\n",
    "df2 = pd.read_csv('https://www.sec.gov/include/ticker.txt', sep=\"\\t\", header=None)\n",
    "df2.columns = ['ticker', 'cik']\n",
    "df2['ticker'] = df2['ticker'].str.upper()\n",
    "\n",
    "    \n",
    "df_merged = pd.merge(df1, df2, on ='cik', how ='inner')\n",
    "\n",
    "\n",
    "companies = df_merged['company.name'].unique()\n",
    "\n",
    "df3 = convertCompanyNames(companies, df_merged)\n",
    "\n",
    "    \n",
    "df3['url'] = df3['url'].str.replace('-$', '')\n",
    "df3['url'] = df3['url'].str.replace('--', '-')\n",
    "    \n",
    "allfcf = getAllFCF(df3)\n",
    "file_output = allfcf.to_csv('output_fcf.csv')\n"
   ]
  },
  {
   "cell_type": "code",
   "execution_count": null,
   "metadata": {},
   "outputs": [],
   "source": [
    "#Categorization of Quarters for FCF dataframe\n",
    "from datetime import datetime\n",
    "from datetime import date as d\n",
    "\n",
    "def addQuarters(date):\n",
    "    \n",
    "    if date is not None:\n",
    "        date = date.replace('-', '/')\n",
    "\n",
    "        quarters = {'Q1':[[1,1],[3,31]],'Q2':[[4,1],[6,30]],'Q3':[[7,1],[9,30]],'Q4':[[10,1],[12,31]]}\n",
    "\n",
    "\n",
    "        for i in range(1,5):\n",
    "            date_time_obj = datetime.strptime(date, '%Y/%m/%d').date()\n",
    "\n",
    "            d1 = d(date_time_obj.year, quarters['Q'+str(i)][0][0], quarters['Q'+str(i)][0][1])\n",
    "            d2 = d(date_time_obj.year, quarters['Q'+str(i)][1][0], quarters['Q'+str(i)][1][1])\n",
    "\n",
    "            if d1 <= date_time_obj and d2 >= date_time_obj:\n",
    "                return('Q' + str(i)), str(date_time_obj.year)\n",
    "    return \"NA\",\"NA\"\n",
    "\n",
    "    "
   ]
  },
  {
   "cell_type": "code",
   "execution_count": null,
   "metadata": {},
   "outputs": [],
   "source": [
    "\n",
    "allfcf['Quarter'] = allfcf['Date'].apply(addQuarters)\n",
    "\n",
    "\n",
    "                                "
   ]
  },
  {
   "cell_type": "code",
   "execution_count": null,
   "metadata": {},
   "outputs": [],
   "source": [
    "#Find row where quarter tuple and ticker are the same\n",
    "import re\n",
    "\n",
    "def addPerctageIncYOY(row,allfcf):\n",
    "    if row['Quarter'][0] != \"NA\":\n",
    "        prevYear = (row['Quarter'][0], str(int(row['Quarter'][1]) - 1))\n",
    "        df = allfcf.loc[allfcf['Ticker'] == row['Ticker']]\n",
    "        df = df.loc[df['Quarter'] == prevYear]\n",
    "        if len(df) == 1:\n",
    "            \n",
    "            r = row['Value']\n",
    "            r = re.sub(r'[^\\x00-\\x7F]+','-', r)\n",
    "            r = r.replace(',','')\n",
    "            \n",
    "            \n",
    "        \n",
    "            b = df['Value'].iloc[0]\n",
    "            b = re.sub(r'[^\\x00-\\x7F]+','-', b)\n",
    "            b = b.replace(',','')\n",
    "           \n",
    "            if r == '' or b == '':\n",
    "                return \"NA\"\n",
    "            if b == \"0.00\" or b == \"-0.00\" :\n",
    "                return \"NA\"\n",
    "            return str(((float(r) - float(b))/float(b))*100)\n",
    "        else:\n",
    "            return \"NA\"\n",
    "    \n",
    "    \n",
    "    "
   ]
  },
  {
   "cell_type": "code",
   "execution_count": null,
   "metadata": {},
   "outputs": [],
   "source": [
    "allfcf['PctIncYOY'] = allfcf.apply(addPerctageIncYOY,allfcf=allfcf,axis=1)\n"
   ]
  },
  {
   "cell_type": "code",
   "execution_count": null,
   "metadata": {},
   "outputs": [],
   "source": [
    "#test = allfcf.loc[allfcf['Ticker'] == 'TTEC']\n",
    "\n",
    "#len(test.loc[test['Quarter'] == (\"Q1\",\"2000\")])\n",
    "def changeDashes(x):\n",
    "    if x is not None:\n",
    "        x = x.replace('-','/')\n",
    "        return x\n",
    "    return \"NA\"\n",
    "\n",
    "def changeOrder(x):\n",
    "    if x != \"NA\":\n",
    "        date_time_obj = datetime.strptime(x, '%Y/%m/%d').date()\n",
    "        \n",
    "        return date_time_obj.strftime('%#m/%d/%y')\n",
    "    return \"NA\"\n",
    "\n",
    "allfcf['period.of.report'] = allfcf['Date'].apply(changeOrder)\n",
    "allfcf.head()\n",
    "                              "
   ]
  },
  {
   "cell_type": "code",
   "execution_count": null,
   "metadata": {},
   "outputs": [],
   "source": [
    "names = allfcf.columns.tolist()\n",
    "names[names.index('Ticker')] = 'ticker'\n",
    "allfcf.columns = names\n",
    "allfcf.head()"
   ]
  },
  {
   "cell_type": "code",
   "execution_count": null,
   "metadata": {},
   "outputs": [],
   "source": [
    "df_linReg = pd.merge(df_quarterly_merged, \n",
    "                      allfcf, \n",
    "                      how ='inner',\n",
    "                      on =['ticker','period.of.report'])\n",
    "\n",
    "\n",
    "df_model = df_linReg[['PctIncYOY','Price_Change']]\n",
    "df_model\n"
   ]
  },
  {
   "cell_type": "code",
   "execution_count": null,
   "metadata": {},
   "outputs": [],
   "source": [
    "def changeFloat(x):\n",
    "    if x != \"NA\":\n",
    "        return float(x)\n",
    "    return \"NA\"\n",
    "\n",
    "df_model['Price_Change'] = df_model['Price_Change'].apply(changeFloat)\n",
    "type(df_model['Price_Change'].iloc[0])"
   ]
  },
  {
   "cell_type": "code",
   "execution_count": 1,
   "metadata": {},
   "outputs": [],
   "source": [
    "import patsy"
   ]
  },
  {
   "cell_type": "code",
   "execution_count": null,
   "metadata": {},
   "outputs": [],
   "source": [
    "df_model.to_csv('model1.csv')"
   ]
  },
  {
   "cell_type": "code",
   "execution_count": 15,
   "metadata": {},
   "outputs": [
    {
     "name": "stdout",
     "output_type": "stream",
     "text": [
      "alpha = -14.083987446250022\n",
      "beta = 8.291768934555333e-05\n"
     ]
    },
    {
     "name": "stderr",
     "output_type": "stream",
     "text": [
      "C:\\Users\\conno\\AppData\\Local\\Temp/ipykernel_14388/411036065.py:7: SettingWithCopyWarning: \n",
      "A value is trying to be set on a copy of a slice from a DataFrame.\n",
      "Try using .loc[row_indexer,col_indexer] = value instead\n",
      "\n",
      "See the caveats in the documentation: https://pandas.pydata.org/pandas-docs/stable/user_guide/indexing.html#returning-a-view-versus-a-copy\n",
      "  df_model['xycov'] = (df_model['PctIncYOY'] - xmean) * (df_model['Price_Change'] - ymean)\n",
      "C:\\Users\\conno\\AppData\\Local\\Temp/ipykernel_14388/411036065.py:8: SettingWithCopyWarning: \n",
      "A value is trying to be set on a copy of a slice from a DataFrame.\n",
      "Try using .loc[row_indexer,col_indexer] = value instead\n",
      "\n",
      "See the caveats in the documentation: https://pandas.pydata.org/pandas-docs/stable/user_guide/indexing.html#returning-a-view-versus-a-copy\n",
      "  df_model['xvar'] = (df_model['PctIncYOY'] - xmean)**2\n"
     ]
    }
   ],
   "source": [
    "# Calculate the mean of X and y\n",
    "import numpy as np\n",
    "xmean = np.mean(df_model['PctIncYOY'].to_list())\n",
    "ymean = np.mean(df_model['Price_Change'].to_list())\n",
    "\n",
    "# Calculate the terms needed for the numator and denominator of beta\n",
    "df_model['xycov'] = (df_model['PctIncYOY'] - xmean) * (df_model['Price_Change'] - ymean)\n",
    "df_model['xvar'] = (df_model['PctIncYOY'] - xmean)**2\n",
    "\n",
    "# Calculate beta and alpha\n",
    "beta = df_model['xycov'].sum() / df_model['xvar'].sum()\n",
    "alpha = ymean - (beta * xmean)\n",
    "print(f'alpha = {alpha}')\n",
    "print(f'beta = {beta}')\n"
   ]
  },
  {
   "cell_type": "code",
   "execution_count": 25,
   "metadata": {},
   "outputs": [
    {
     "name": "stderr",
     "output_type": "stream",
     "text": [
      "C:\\Users\\conno\\AppData\\Local\\Temp/ipykernel_14388/1756917296.py:1: DeprecationWarning: np.asscalar(a) is deprecated since NumPy v1.16, use a.item() instead\n",
      "  alpha = np.asscalar(alpha)\n",
      "C:\\Users\\conno\\AppData\\Local\\Temp/ipykernel_14388/1756917296.py:2: DeprecationWarning: np.asscalar(a) is deprecated since NumPy v1.16, use a.item() instead\n",
      "  beta = np.asscalar(beta)\n"
     ]
    }
   ],
   "source": [
    "alpha = np.asscalar(alpha)\n",
    "beta = np.asscalar(beta)"
   ]
  },
  {
   "cell_type": "code",
   "execution_count": 27,
   "metadata": {},
   "outputs": [
    {
     "name": "stderr",
     "output_type": "stream",
     "text": [
      "C:\\Users\\conno\\AppData\\Local\\Temp/ipykernel_14388/2348165249.py:1: SettingWithCopyWarning: \n",
      "A value is trying to be set on a copy of a slice from a DataFrame.\n",
      "Try using .loc[row_indexer,col_indexer] = value instead\n",
      "\n",
      "See the caveats in the documentation: https://pandas.pydata.org/pandas-docs/stable/user_guide/indexing.html#returning-a-view-versus-a-copy\n",
      "  df_model['PctIncYOY'] = pd.to_numeric(df_model['PctIncYOY'], errors='coerce')\n"
     ]
    }
   ],
   "source": [
    "df_model['PctIncYOY'] = pd.to_numeric(df_model['PctIncYOY'], errors='coerce')"
   ]
  },
  {
   "cell_type": "code",
   "execution_count": 38,
   "metadata": {},
   "outputs": [],
   "source": [
    "ypred = alpha + beta * (df_model['PctIncYOY'].to_numpy())"
   ]
  },
  {
   "cell_type": "code",
   "execution_count": 13,
   "metadata": {},
   "outputs": [],
   "source": [
    "df_model = df_model[~pd.to_numeric(df_model['PctIncYOY'], errors='coerce').isnull()]"
   ]
  },
  {
   "cell_type": "code",
   "execution_count": 37,
   "metadata": {},
   "outputs": [
    {
     "data": {
      "text/plain": [
       "array([-2.49789539e-01,  3.87378743e-03, -3.99365123e-04, -6.96961702e-04,\n",
       "        2.23879330e-03,  9.55464356e-04,  5.04133509e-04,  3.71706374e-04,\n",
       "       -1.76123331e-03, -7.91887276e-05,  2.35393396e-03,  4.05661631e-03,\n",
       "       -2.76849736e-04, -3.18293216e-03,  7.24171959e-06, -5.68578441e-05,\n",
       "        1.57038242e-02,  7.04728005e-03,  5.86816789e-03, -3.40855088e-03,\n",
       "       -3.06639002e-03, -1.42479857e-03,  3.58028698e-03,  7.36080685e-03,\n",
       "        1.12029962e-02,  8.66762155e-03,  2.45596804e-03, -4.79226652e-04,\n",
       "        4.92832985e-03, -4.29788276e-04,  2.90830701e-02,  1.29023781e-02,\n",
       "        2.04441855e-02,  2.22894330e-03, -2.18402976e-03, -2.51381730e-04,\n",
       "       -2.81310310e-04,  1.60898827e-03,  2.39830961e-03,  1.28530564e-02,\n",
       "        6.06078818e-03,  4.48654771e-03,  2.08382236e-02,  2.79833911e-03,\n",
       "       -1.57091999e-02, -9.75584019e-03, -4.46330780e-03, -2.90318294e-02,\n",
       "       -1.14223706e-01,  2.42237527e-02, -7.04792921e-03,  6.75939179e-03,\n",
       "       -8.16541422e-03, -4.27080974e-03, -1.87751821e-03, -5.80423825e-02,\n",
       "        4.62258895e-04,  3.60226928e-04, -2.11825245e-02,  7.56886169e-03,\n",
       "        2.60670188e-03, -6.43960051e-02, -3.14133457e-02, -2.44543737e-02,\n",
       "        6.50850019e-03, -3.87140186e-03, -5.99964134e-03, -2.13216915e-02,\n",
       "       -1.84787993e-02, -3.63004691e-02,  2.09588658e-01,  1.00505414e-02,\n",
       "       -1.36952113e-02, -5.67049447e-03, -2.77902559e-03, -2.28777569e-02,\n",
       "        4.63813988e-03,  9.53743455e-03, -1.85801996e-02,  1.50659147e-02,\n",
       "        1.55175167e-02, -1.29461717e-02, -1.00259145e-02, -6.00517817e-03,\n",
       "        3.58961327e-04, -8.48959345e-03,  1.38010651e-02, -7.51932879e-05,\n",
       "        1.16005754e-01, -1.50079451e-02, -2.07650636e-02, -9.28530540e-03,\n",
       "        4.52380863e-03,  1.34285538e-03,  4.18131938e-03, -3.18761791e-02,\n",
       "       -3.15180622e-02, -5.69246833e-02, -8.27852330e-04,  2.01630447e-03,\n",
       "        2.09536796e-03,  2.94295259e-03,  2.20506383e-03,  1.65982266e-03,\n",
       "        4.34408327e-05,  2.32726154e-03,  1.75167443e-03,  1.29643293e-04,\n",
       "       -2.41671530e-04, -3.77644922e-04,  8.54706394e-03,  2.16508372e-03,\n",
       "        2.24827887e-03, -3.68994321e-04,  1.03471451e-03,  3.99088580e-02,\n",
       "        6.80717589e-03,  5.26638916e-03,  6.88239525e-03, -7.21322070e-04,\n",
       "       -2.54031523e-04, -1.14473085e-03,  5.53077788e-03,  2.86669560e-03,\n",
       "        2.10940652e-03,  1.15791688e-03, -2.48256555e-03, -6.33867561e-03,\n",
       "       -9.48732632e-03, -5.68305086e-01, -5.66629337e-01,  1.01159581e+00,\n",
       "       -8.30226219e-03, -8.91754169e-03, -8.80280111e-03, -3.15087220e-02,\n",
       "       -9.99811367e-03, -4.80406907e-03,  6.83990278e-03,  3.40611818e-04,\n",
       "       -5.44147336e-03, -4.85952032e-03, -2.43638016e-03,  1.93665224e-02,\n",
       "        7.86271621e-03,  5.06719213e-03,  6.70243027e-04,  8.17498346e-04,\n",
       "        9.85243234e-04, -2.88446727e-02, -1.34429924e-02, -9.27992375e-03,\n",
       "        3.96946385e-04, -7.69476157e-04, -9.15461799e-03, -1.67751699e-02,\n",
       "       -2.90837707e-01, -7.22799565e-01,  2.78793621e-02, -1.96963946e-03,\n",
       "       -2.68725599e-03, -2.96924926e-03,  2.58929604e-04, -2.68406088e-03,\n",
       "       -1.78287182e-03,  3.86658278e-02, -1.89982555e-02, -1.45831771e-02,\n",
       "        1.31697334e-03,  7.79762899e-03,  1.98249204e-02, -9.67228961e-03,\n",
       "       -9.91275805e-03, -9.50210528e-03,  6.01113307e-03, -2.95957180e-03,\n",
       "        1.41774851e-01, -8.36307931e-02, -1.40422516e-02, -1.95437414e-02,\n",
       "       -2.23113402e-02,  3.68237608e-04,  1.79690276e-02,  7.99141011e-02,\n",
       "       -3.30016869e-02, -1.08077821e-02, -1.72384719e-02, -1.72748623e-02,\n",
       "       -4.07357645e-02, -6.81287628e-04, -7.32974049e-05, -1.04603854e-03,\n",
       "       -3.51223400e-03, -1.83953402e-03, -2.48169141e-04,  4.45996662e-03,\n",
       "        2.09076122e-03,  1.53495541e-03,  1.22334226e-02,  9.06971522e-03,\n",
       "        7.89813212e-03, -5.94970788e-03, -3.11958591e-03, -2.84479856e-03,\n",
       "        1.79225813e-02,  4.17487667e-03,  2.80701309e-03, -2.28064371e-04,\n",
       "        4.14588447e-04,  5.38068200e-04,  9.38058708e-04, -1.83649367e-04,\n",
       "        3.69242835e-04, -1.05340077e-04,  4.78913042e-04,  3.16290363e-04,\n",
       "        2.88409354e-04,  2.56040371e-04, -2.53598907e-02, -1.71061283e-02,\n",
       "       -1.27433407e-02, -7.06238994e-03, -1.41910512e-02, -1.84340614e-02,\n",
       "       -3.96946385e-02,  7.73898434e-03,  5.26600062e-03, -2.98131018e-03,\n",
       "       -2.76392298e-03, -3.73663407e-04, -7.20074671e-03, -2.19269341e-04,\n",
       "        2.78220605e-05, -6.73844377e-04, -6.64849461e-03, -6.73181355e-03,\n",
       "       -8.33332620e-03, -1.62762547e-02, -2.60038970e-02,  5.15980779e-01,\n",
       "       -2.26921960e-03,  1.71065679e-02, -5.23369351e-03, -9.59487575e-03,\n",
       "        3.63674076e-04, -1.51639354e-03, -1.48864792e-03, -1.69551578e-03,\n",
       "       -1.94790762e-03, -2.34963693e-03, -2.80285147e-03,  6.88113605e-04,\n",
       "        2.22801730e-03,  1.16878658e-02,  1.15957688e-03, -1.49670919e-04,\n",
       "       -5.01533044e-03, -3.65116548e-03, -2.86553779e-03,  4.82182209e-03,\n",
       "       -9.42839919e-03, -7.85376519e-02,  5.74767464e-03, -1.04188691e-01,\n",
       "        3.78494864e-03,  5.63420830e-03, -5.36906168e-03,  4.28876902e-03,\n",
       "        2.03547942e-03,  9.20798650e-04, -6.39062156e-03, -4.57701635e-03,\n",
       "        2.53535988e-02, -6.78166582e-02, -4.02743063e-02,  8.68661507e-03,\n",
       "        5.10262704e-03,  3.58667214e-02, -8.35458537e-03, -9.98181101e-03,\n",
       "       -9.03404519e-03, -2.15585992e+00, -6.08926781e-02, -9.64676532e-02,\n",
       "       -7.36334693e-03, -6.24946132e-03, -6.35641937e-02,  1.70401151e-03,\n",
       "       -1.05879511e-02, -1.35009444e-02, -3.09825396e-02,  2.21252034e+00,\n",
       "       -1.54768158e-03, -3.65776990e-04, -1.01131718e-03,  1.78591946e-03,\n",
       "       -2.17183845e-04,  8.24671562e-04,  1.02103082e-02,  3.06353097e-03,\n",
       "        1.94394986e-03,  1.72127659e-02,  2.03142297e-02,  1.24376534e-01,\n",
       "       -7.72055819e-02, -2.31558155e-02, -2.07294223e-02, -9.09556286e-03,\n",
       "       -2.00068739e-02, -6.80797870e-02, -2.23062177e-01, -3.61262939e-02,\n",
       "        3.45591245e-02,  3.12253324e-03, -2.35117492e-02, -4.78902075e-02,\n",
       "       -6.55654109e-03, -2.68887747e-03, -8.69330545e-03,  7.20804230e-03,\n",
       "        1.59214575e-03,  4.97690808e-03,  4.71889289e-04,  9.25715830e-03,\n",
       "        5.68941139e-03,  2.78093173e-03,  1.98077675e-03,  1.16693900e-03,\n",
       "       -3.43898251e-04, -1.08942950e-03, -2.38193362e-03,  9.36810433e-04,\n",
       "        2.57811303e-03,  3.89755230e-03, -7.29538234e-03, -7.50661407e-03,\n",
       "        7.01338641e-03,  8.03375067e-04,  9.76468877e-04, -4.13480909e-04,\n",
       "        6.76279027e-04,  4.58074581e-04,  7.97315363e-04,  2.26880593e-03,\n",
       "        2.69548484e-03, -6.71243708e-04, -1.35476582e-04,  8.85177947e-04,\n",
       "        5.13658933e-02,  7.34507091e-04, -1.64638011e-04, -4.80520302e-04,\n",
       "       -1.96423459e-03, -1.32851546e-03, -2.50295171e-03, -3.45817851e-03,\n",
       "       -3.80039410e-03, -6.23567989e-03, -8.15748928e-03, -8.82672177e-03,\n",
       "        6.66302861e-04,  2.90211913e-02,  1.75642847e-02,  2.29565504e-02,\n",
       "        8.29176893e-03, -4.14588447e-03, -4.14588447e-03, -0.00000000e+00,\n",
       "        1.21225662e+01,  8.29176893e-03, -0.00000000e+00, -8.28043364e-03,\n",
       "       -0.00000000e+00, -4.14588447e-03, -4.14588447e-03, -1.09788095e-02,\n",
       "       -8.22390277e-03, -8.04109297e-03, -6.27754524e-02,  1.43923583e-01,\n",
       "       -2.43371440e-02, -1.59493340e-01,  3.37153738e-03, -4.75971255e-02,\n",
       "       -7.51747845e-03, -7.67272611e-03, -5.10639069e-03,  9.35090168e-03,\n",
       "        1.41239216e-01,  3.07489313e-02, -2.80697990e-03, -1.52646740e-02,\n",
       "       -9.29148576e-03])"
      ]
     },
     "execution_count": 37,
     "metadata": {},
     "output_type": "execute_result"
    }
   ],
   "source": [
    "df_model['PctIncYOY'].to_numpy() * beta"
   ]
  },
  {
   "cell_type": "code",
   "execution_count": 14,
   "metadata": {},
   "outputs": [
    {
     "data": {
      "text/html": [
       "<div>\n",
       "<style scoped>\n",
       "    .dataframe tbody tr th:only-of-type {\n",
       "        vertical-align: middle;\n",
       "    }\n",
       "\n",
       "    .dataframe tbody tr th {\n",
       "        vertical-align: top;\n",
       "    }\n",
       "\n",
       "    .dataframe thead th {\n",
       "        text-align: right;\n",
       "    }\n",
       "</style>\n",
       "<table border=\"1\" class=\"dataframe\">\n",
       "  <thead>\n",
       "    <tr style=\"text-align: right;\">\n",
       "      <th></th>\n",
       "      <th>PctIncYOY</th>\n",
       "      <th>Price_Change</th>\n",
       "      <th>xycov</th>\n",
       "      <th>xvar</th>\n",
       "    </tr>\n",
       "  </thead>\n",
       "  <tbody>\n",
       "  </tbody>\n",
       "</table>\n",
       "</div>"
      ],
      "text/plain": [
       "Empty DataFrame\n",
       "Columns: [PctIncYOY, Price_Change, xycov, xvar]\n",
       "Index: []"
      ]
     },
     "execution_count": 14,
     "metadata": {},
     "output_type": "execute_result"
    }
   ],
   "source": [
    "df_model[pd.to_numeric(df_model['Price_Change'], errors='coerce').isnull()]"
   ]
  },
  {
   "cell_type": "code",
   "execution_count": 1,
   "metadata": {},
   "outputs": [],
   "source": [
    "import pandas as pd\n",
    "df_model = pd.read_csv('model1.csv', index_col=0)"
   ]
  },
  {
   "cell_type": "code",
   "execution_count": 40,
   "metadata": {},
   "outputs": [
    {
     "data": {
      "image/png": "[encoded data removed]",
      "text/plain": [
       "<Figure size 864x432 with 1 Axes>"
      ]
     },
     "metadata": {
      "needs_background": "light"
     },
     "output_type": "display_data"
    }
   ],
   "source": [
    "\n",
    "from matplotlib import pyplot as plt\n",
    "# Plot regression against actual data\n",
    "plt.figure(figsize=(12, 6))\n",
    "plt.plot(df_model['PctIncYOY'].to_numpy(), ypred)     # regression line\n",
    "plt.plot(df_model['PctIncYOY'].to_numpy(), df_model['Price_Change'].to_numpy(), 'ro')   # scatter plot showing actual data\n",
    "plt.title('Actual vs Predicted')\n",
    "plt.xlabel('X')\n",
    "plt.ylabel('y')\n",
    "\n",
    "plt.show()\n",
    "\n"
   ]
  },
  {
   "cell_type": "code",
   "execution_count": null,
   "metadata": {},
   "outputs": [],
   "source": [
    "#Calculate Free Cash Flow Percent Change from Previous Quarter\n",
    "\n",
    "import pandas as pd\n",
    "df_pct_change = pd.read_csv('output_fcf.csv', index_col=0)\n",
    "df_pct_change = df_pct_change.dropna(how='any',axis=0) \n",
    "df_pct_change['Value'] = pd.to_numeric(df_pct_change['Value'],errors='coerce')\n",
    "df_pct_change['pct'] = df_pct_change.sort_values('Date', axis=0, ascending=True).groupby(['Ticker']).Value.pct_change()\n",
    "df_pct_change.to_csv('fcf_pct_change.csv')\n",
    "print(df_pct_change)"
   ]
  },
  {
   "cell_type": "code",
   "execution_count": null,
   "metadata": {},
   "outputs": [],
   "source": [
    "#Merge Percent Change of Free Cash Flow with Stock Price Change Dataframe\n",
    "\n",
    "\n",
    "import pandas as pd\n",
    "df_stock_prices = pd.read_csv('stock_prices_90_days_pct_changev2.csv')\n",
    "df_fcf = pd.read_csv('fcf_pct_change.csv', index_col=0)\n",
    "df_stock_prices = df_stock_prices.rename(columns = {'period.of.report': 'Date', 'ticker': 'Ticker'})\n",
    "df_fcf_merged = pd.merge(df_fcf, \n",
    "                      df_stock_prices, \n",
    "                      how ='inner',\n",
    "                      on =['Date','Ticker'] )\n",
    "\n",
    "df_fcf_merged.drop(['Unnamed: 0'], axis=1)\n",
    "df_fcf_merged = df_fcf_merged.rename(columns = {'Date': 'Period', 'pct': 'FCF_PCT_CHANGE', 'Value': 'FCF'})\n",
    "print(df_fcf_merged)\n",
    "df_fcf_merged.to_csv('stock_prices_90_days_FCF.csv')"
   ]
  },
  {
   "cell_type": "code",
   "execution_count": null,
   "metadata": {},
   "outputs": [],
   "source": []
  }
 ],
 "metadata": {
  "interpreter": {
   "hash": "aee8b7b246df8f9039afb4144a1f6fd8d2ca17a180786b69acc140d282b71a49"
  },
  "kernelspec": {
   "display_name": "Python 3 (ipykernel)",
   "language": "python",
   "name": "python3"
  },
  "language_info": {
   "codemirror_mode": {
    "name": "ipython",
    "version": 3
   },
   "file_extension": ".py",
   "mimetype": "text/x-python",
   "name": "python",
   "nbconvert_exporter": "python",
   "pygments_lexer": "ipython3",
   "version": "3.9.7"
  }
 },
 "nbformat": 4,
 "nbformat_minor": 4
}
