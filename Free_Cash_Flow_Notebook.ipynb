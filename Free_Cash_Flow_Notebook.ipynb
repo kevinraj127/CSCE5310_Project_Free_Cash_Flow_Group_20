{
 "cells": [
  {
   "cell_type": "code",
   "execution_count": null,
   "metadata": {},
   "outputs": [],
   "source": [
    "# Generate Random CIK Numbers from SEC Website \n",
    "\n",
    "import pandas as pd\n",
    "df = pd.read_csv('https://www.sec.gov/include/ticker.txt', sep=\"\\t\", header=None)\n",
    "random_sample = df.sample(n=85)\n",
    "company_list = random_sample.values.tolist()\n",
    "cik_numbers = []\n",
    "for i in company_list:\n",
    "    cik_numbers.append(i[1])\n",
    "print(cik_numbers)"
   ]
  },
  {
   "cell_type": "code",
   "execution_count": null,
   "metadata": {},
   "outputs": [],
   "source": [
    "# Add 90 Days to 10-Q Filing Date\n",
    "\n",
    "# import pandas, timedelta\n",
    "import pandas as pd\n",
    "from datetime import timedelta\n",
    "   \n",
    "# read csv data\n",
    "df1 = pd.read_csv('10_Q_FILINGS.csv')\n",
    "df1['date.filed'] = pd.to_datetime(df1['date.filed']) \n",
    "df1['90_DAYS'] = df1[\"date.filed\"] + timedelta(days=90)\n",
    "df2 = pd.read_csv('https://www.sec.gov/include/ticker.txt', sep=\"\\t\", header=None)\n",
    "df2.columns = ['ticker', 'cik']\n",
    "df2['ticker'] = df2['ticker'].str.upper()\n",
    "\n",
    "   \n",
    "df_merged = pd.merge(df1, \n",
    "                      df2, \n",
    "                      on ='cik', \n",
    "                      how ='inner')\n",
    "\n",
    "\n",
    "quarterly_df = (df_merged[['cik','company.name', 'ticker', 'date.filed', '90_DAYS']])\n",
    "#quarterly_df.to_csv('90_DAYS.csv')"
   ]
  },
  {
   "cell_type": "code",
   "execution_count": null,
   "metadata": {},
   "outputs": [],
   "source": [
    "# Get Stock Price for Quarterly Date + 90 Days\n",
    "\n",
    "# Import yfinance and matplotlib\n",
    "import yfinance as yf  \n",
    "import matplotlib.pyplot as plt\n",
    "\n",
    "df_ohlc = yf.download(df_merged['ticker'].unique().tolist(), start=df_merged['date.filed'].min())[['Close']]\n",
    "df_ohlc = df_ohlc.stack(level=1).reset_index().rename(columns={'level_1':'ticker'})\n",
    "df_ohlc = df_ohlc.rename(columns = {'Date': 'date.filed'})\n",
    "df_filed_merged = pd.merge(quarterly_df, \n",
    "                      df_ohlc, \n",
    "                      how ='inner',\n",
    "                      on =['date.filed', 'ticker'] )\n",
    "df_filed_merged = df_filed_merged.rename(columns={'Close': 'Filed_Price'})\n",
    "print(df_filed_merged)"
   ]
  },
  {
   "cell_type": "code",
   "execution_count": null,
   "metadata": {},
   "outputs": [],
   "source": [
    "# Import yfinance and matplotlib\n",
    "import yfinance as yf  \n",
    "import matplotlib.pyplot as plt\n",
    "\n",
    "df_ohlc = yf.download(df_merged['ticker'].unique().tolist(), start=df_merged['90_DAYS'].min())[['Close']]\n",
    "df_ohlc = df_ohlc.stack(level=1).reset_index().rename(columns={'level_1':'ticker'})\n",
    "df_ohlc = df_ohlc.rename(columns = {'Date': '90_DAYS'})\n",
    "df_quarterly_merged = pd.merge(df_filed_merged, \n",
    "                      df_ohlc, \n",
    "                      how ='inner',\n",
    "                      on =['90_DAYS', 'ticker'] )\n",
    "df_quarterly_merged = df_quarterly_merged.rename(columns={'Close': '90_Days_Close_Price', 'Filed_Price': 'Filed_Close_Price'})\n",
    "df_quarterly_merged['Price_Change'] = df_quarterly_merged['90_Days_Close_Price'] - df_quarterly_merged['Filed_Close_Price']\n",
    "print(df_quarterly_merged)\n",
    "#df_quarterly_merged.to_csv('stock_prices_90_days.csv')"
   ]
  },
  {
   "cell_type": "code",
   "execution_count": null,
   "metadata": {},
   "outputs": [],
   "source": [
    "#Calculate the Percent Change between the stock price at 10-Q filing date and after 90 days\n",
    "\n",
    "# Import yfinance and matplotlib\n",
    "import pandas as pd\n",
    "import yfinance as yf  \n",
    "import matplotlib.pyplot as plt\n",
    "from datetime import timedelta\n",
    "\n",
    "df1 = pd.read_csv('10_Q_FILINGS.csv')\n",
    "df1['date.filed'] = pd.to_datetime(df1['date.filed']) \n",
    "df1['90_DAYS'] = df1[\"date.filed\"] + timedelta(days=90)\n",
    "df2 = pd.read_csv('https://www.sec.gov/include/ticker.txt', sep=\"\\t\", header=None)\n",
    "df2.columns = ['ticker', 'cik']\n",
    "df2['ticker'] = df2['ticker'].str.upper()\n",
    "\n",
    "   \n",
    "df_merged = pd.merge(df1, \n",
    "                      df2, \n",
    "                      on ='cik', \n",
    "                      how ='inner')\n",
    "\n",
    "\n",
    "quarterly_df = (df_merged[['cik','company.name', 'ticker', 'date.filed', 'period.of.report', '90_DAYS']])\n",
    "\n",
    "df_ohlc = yf.download(df_merged['ticker'].unique().tolist(), start=df_merged['date.filed'].min())[['Close']]\n",
    "df_ohlc = df_ohlc.stack(level=1).reset_index().rename(columns={'level_1':'ticker'})\n",
    "df_ohlc = df_ohlc.rename(columns = {'Date': 'date.filed'})\n",
    "df_filed_merged = pd.merge(quarterly_df, \n",
    "                      df_ohlc, \n",
    "                      how ='inner',\n",
    "                      on =['date.filed', 'ticker'] )\n",
    "df_filed_merged = df_filed_merged.rename(columns={'Close': 'Filed_Price'})\n",
    "\n",
    "df_ohlc = yf.download(df_merged['ticker'].unique().tolist(), start=df_merged['90_DAYS'].min())[['Close']]\n",
    "df_ohlc = df_ohlc.stack(level=1).reset_index().rename(columns={'level_1':'ticker'})\n",
    "df_ohlc = df_ohlc.rename(columns = {'Date': '90_DAYS'})\n",
    "df_quarterly_merged = pd.merge(df_filed_merged, \n",
    "                      df_ohlc, \n",
    "                      how ='inner',\n",
    "                      on =['90_DAYS', 'ticker'] )\n",
    "df_quarterly_merged = df_quarterly_merged.rename(columns={'Close': '90_Days_Close_Price', 'Filed_Price': 'Filed_Close_Price'})\n",
    "df_quarterly_merged['Price_Change'] = df_quarterly_merged['90_Days_Close_Price'] - df_quarterly_merged['Filed_Close_Price']\n",
    "def percentage_change(col1,col2):\n",
    "    return ((col2 - col1) / col1)\n",
    "df_quarterly_merged['Pct_Change_Price'] = percentage_change(df_quarterly_merged['Filed_Close_Price'],df_quarterly_merged['90_Days_Close_Price'])\n",
    "print(df_quarterly_merged)\n",
    "df_quarterly_merged.to_csv('stock_prices_90_days_pct_changev2.csv')"
   ]
  },
  {
   "cell_type": "code",
   "execution_count": null,
   "metadata": {},
   "outputs": [],
   "source": [
    "#Get Free Cash Flow for Sample Companies from MacroTrends financial charts website\n",
    "#Get this dataframe into df_quarterly merged\n",
    "#Create YOY function\n",
    "\"\"\"\n",
    "Created on Tue Apr  5 20:36:06 2022\n",
    "\n",
    "@author: conno\n",
    "\"\"\"\n",
    "from enum import unique\n",
    "from numpy import inner\n",
    "import requests\n",
    "import time\n",
    "import csv\n",
    "import re\n",
    "from bs4 import BeautifulSoup\n",
    "import pandas as pd\n",
    "from datetime import timedelta\n",
    "\n",
    "\n",
    "def getAllFCF(df):\n",
    "    tickers = df['ticker'].unique()\n",
    "    allfcf = pd.DataFrame()\n",
    "    for i in tickers:\n",
    "        url = df.loc[df['ticker'] == i, 'url']\n",
    "        fcf = getFCF(i, url.iloc[0])\n",
    "        fcf['Ticker'] = i\n",
    "        allfcf = allfcf.append(fcf, ignore_index=True)\n",
    "    return allfcf\n",
    "\n",
    "\n",
    "def getFCF(ticker, url):\n",
    "    page = requests.get(\"https://www.macrotrends.net/stocks/charts/\" + ticker + \"/\" + url + \"/free-cash-flow\")\n",
    "    if page.status_code != 200:\n",
    "        return pd.DataFrame()\n",
    "    else:    \n",
    "    \n",
    "        soup = BeautifulSoup(page.content, 'html.parser')\n",
    "        tables = soup.find_all(class_=\"historical_data_table\")\n",
    "        text = tables[1]\n",
    "        \n",
    "\n",
    "        table_rows = text.find_all('tr')\n",
    "\n",
    "        rows = []\n",
    "        for tr in table_rows:\n",
    "            td = tr.find_all('td')\n",
    "            row = [i.text for i in td]\n",
    "            rows.append(row)\n",
    "\n",
    "        df = pd.DataFrame(rows, columns =['Date', 'Value'])\n",
    "        return df\n",
    "\n",
    "def convertCompanyNames(names, df):\n",
    "    lst = []\n",
    "    for i in names:\n",
    "        name = i.lower()\n",
    "        name = name.replace(\" \",\"-\")\n",
    "        lst.append([i,name])\n",
    "        \n",
    "    df2 = pd.DataFrame(lst, columns=[\"company.name\", \"url\"])\n",
    "    return pd.merge(df,df2,on=\"company.name\", how=\"inner\")\n",
    "\n",
    "\n",
    "\n",
    "df1 = pd.read_csv('10_Q_FILINGS.csv')\n",
    "df1['date.filed'] = pd.to_datetime(df1['date.filed']) \n",
    "df1['90_DAYS'] = df1[\"date.filed\"] + timedelta(days=90)\n",
    "df2 = pd.read_csv('https://www.sec.gov/include/ticker.txt', sep=\"\\t\", header=None)\n",
    "df2.columns = ['ticker', 'cik']\n",
    "df2['ticker'] = df2['ticker'].str.upper()\n",
    "\n",
    "    \n",
    "df_merged = pd.merge(df1, df2, on ='cik', how ='inner')\n",
    "\n",
    "\n",
    "companies = df_merged['company.name'].unique()\n",
    "\n",
    "df3 = convertCompanyNames(companies, df_merged)\n",
    "\n",
    "    \n",
    "df3['url'] = df3['url'].str.replace('-$', '')\n",
    "df3['url'] = df3['url'].str.replace('--', '-')\n",
    "    \n",
    "allfcf = getAllFCF(df3)\n",
    "file_output = allfcf.to_csv('output_fcf.csv')\n"
   ]
  },
  {
   "cell_type": "code",
   "execution_count": null,
   "metadata": {},
   "outputs": [],
   "source": [
    "#Categorization of Quarters for FCF dataframe\n",
    "from datetime import datetime\n",
    "from datetime import date as d\n",
    "\n",
    "def addQuarters(date):\n",
    "    \n",
    "    if date is not None:\n",
    "        date = date.replace('-', '/')\n",
    "\n",
    "        quarters = {'Q1':[[1,1],[3,31]],'Q2':[[4,1],[6,30]],'Q3':[[7,1],[9,30]],'Q4':[[10,1],[12,31]]}\n",
    "\n",
    "\n",
    "        for i in range(1,5):\n",
    "            date_time_obj = datetime.strptime(date, '%Y/%m/%d').date()\n",
    "\n",
    "            d1 = d(date_time_obj.year, quarters['Q'+str(i)][0][0], quarters['Q'+str(i)][0][1])\n",
    "            d2 = d(date_time_obj.year, quarters['Q'+str(i)][1][0], quarters['Q'+str(i)][1][1])\n",
    "\n",
    "            if d1 <= date_time_obj and d2 >= date_time_obj:\n",
    "                return('Q' + str(i)), str(date_time_obj.year)\n",
    "    return \"NA\",\"NA\"\n",
    "\n",
    "    "
   ]
  },
  {
   "cell_type": "code",
   "execution_count": null,
   "metadata": {},
   "outputs": [],
   "source": [
    "\n",
    "allfcf['Quarter'] = allfcf['Date'].apply(addQuarters)\n",
    "\n",
    "\n",
    "                                "
   ]
  },
  {
   "cell_type": "code",
   "execution_count": null,
   "metadata": {},
   "outputs": [],
   "source": [
    "#Find row where quarter tuple and ticker are the same\n",
    "import re\n",
    "\n",
    "def addPerctageIncYOY(row,allfcf):\n",
    "    if row['Quarter'][0] != \"NA\":\n",
    "        prevYear = (row['Quarter'][0], str(int(row['Quarter'][1]) - 1))\n",
    "        df = allfcf.loc[allfcf['Ticker'] == row['Ticker']]\n",
    "        df = df.loc[df['Quarter'] == prevYear]\n",
    "        if len(df) == 1:\n",
    "            \n",
    "            r = row['Value']\n",
    "            r = re.sub(r'[^\\x00-\\x7F]+','-', r)\n",
    "            r = r.replace(',','')\n",
    "            \n",
    "            \n",
    "        \n",
    "            b = df['Value'].iloc[0]\n",
    "            b = re.sub(r'[^\\x00-\\x7F]+','-', b)\n",
    "            b = b.replace(',','')\n",
    "           \n",
    "            if r == '' or b == '':\n",
    "                return \"NA\"\n",
    "            if b == \"0.00\" or b == \"-0.00\" :\n",
    "                return \"NA\"\n",
    "            return str(((float(r) - float(b))/float(b))*100)\n",
    "        else:\n",
    "            return \"NA\"\n",
    "    \n",
    "    \n",
    "    "
   ]
  },
  {
   "cell_type": "code",
   "execution_count": null,
   "metadata": {},
   "outputs": [],
   "source": [
    "allfcf['PctIncYOY'] = allfcf.apply(addPerctageIncYOY,allfcf=allfcf,axis=1)\n"
   ]
  },
  {
   "cell_type": "code",
   "execution_count": null,
   "metadata": {},
   "outputs": [],
   "source": [
    "#test = allfcf.loc[allfcf['Ticker'] == 'TTEC']\n",
    "\n",
    "#len(test.loc[test['Quarter'] == (\"Q1\",\"2000\")])\n",
    "def changeDashes(x):\n",
    "    if x is not None:\n",
    "        x = x.replace('-','/')\n",
    "        return x\n",
    "    return \"NA\"\n",
    "\n",
    "def changeOrder(x):\n",
    "    if x != \"NA\":\n",
    "        date_time_obj = datetime.strptime(x, '%Y/%m/%d').date()\n",
    "        \n",
    "        return date_time_obj.strftime('%#m/%d/%y')\n",
    "    return \"NA\"\n",
    "\n",
    "allfcf['period.of.report'] = allfcf['Date'].apply(changeOrder)\n",
    "allfcf.head()\n",
    "                              "
   ]
  },
  {
   "cell_type": "code",
   "execution_count": null,
   "metadata": {},
   "outputs": [],
   "source": [
    "names = allfcf.columns.tolist()\n",
    "names[names.index('Ticker')] = 'ticker'\n",
    "allfcf.columns = names\n",
    "allfcf.head()"
   ]
  },
  {
   "cell_type": "code",
   "execution_count": null,
   "metadata": {},
   "outputs": [],
   "source": [
    "df_linReg = pd.merge(df_quarterly_merged, \n",
    "                      allfcf, \n",
    "                      how ='inner',\n",
    "                      on =['ticker','period.of.report'])\n",
    "\n",
    "\n",
    "df_model = df_linReg[['PctIncYOY','Price_Change']]\n",
    "df_model\n"
   ]
  },
  {
   "cell_type": "code",
   "execution_count": null,
   "metadata": {},
   "outputs": [],
   "source": [
    "def changeFloat(x):\n",
    "    if x != \"NA\":\n",
    "        return float(x)\n",
    "    return \"NA\"\n",
    "\n",
    "df_model['Price_Change'] = df_model['Price_Change'].apply(changeFloat)\n",
    "type(df_model['Price_Change'].iloc[0])"
   ]
  },
  {
   "cell_type": "code",
   "execution_count": 1,
   "metadata": {},
   "outputs": [],
   "source": []
  },
  {
   "cell_type": "code",
   "execution_count": null,
   "metadata": {},
   "outputs": [],
   "source": [
    "df_model.to_csv('model1.csv')"
   ]
  },
  {
   "cell_type": "code",
   "execution_count": 15,
   "metadata": {},
   "outputs": [
    {
     "name": "stdout",
     "output_type": "stream",
     "text": [
      "alpha = -14.083987446250022\n",
      "beta = 8.291768934555333e-05\n"
     ]
    },
    {
     "name": "stderr",
     "output_type": "stream",
     "text": [
      "C:\\Users\\conno\\AppData\\Local\\Temp/ipykernel_14388/411036065.py:7: SettingWithCopyWarning: \n",
      "A value is trying to be set on a copy of a slice from a DataFrame.\n",
      "Try using .loc[row_indexer,col_indexer] = value instead\n",
      "\n",
      "See the caveats in the documentation: https://pandas.pydata.org/pandas-docs/stable/user_guide/indexing.html#returning-a-view-versus-a-copy\n",
      "  df_model['xycov'] = (df_model['PctIncYOY'] - xmean) * (df_model['Price_Change'] - ymean)\n",
      "C:\\Users\\conno\\AppData\\Local\\Temp/ipykernel_14388/411036065.py:8: SettingWithCopyWarning: \n",
      "A value is trying to be set on a copy of a slice from a DataFrame.\n",
      "Try using .loc[row_indexer,col_indexer] = value instead\n",
      "\n",
      "See the caveats in the documentation: https://pandas.pydata.org/pandas-docs/stable/user_guide/indexing.html#returning-a-view-versus-a-copy\n",
      "  df_model['xvar'] = (df_model['PctIncYOY'] - xmean)**2\n"
     ]
    }
   ],
   "source": [
    "# Calculate the mean of X and y\n",
    "import numpy as np\n",
    "xmean = np.mean(df_model['PctIncYOY'].to_list())\n",
    "ymean = np.mean(df_model['Price_Change'].to_list())\n",
    "\n",
    "# Calculate the terms needed for the numator and denominator of beta\n",
    "df_model['xycov'] = (df_model['PctIncYOY'] - xmean) * (df_model['Price_Change'] - ymean)\n",
    "df_model['xvar'] = (df_model['PctIncYOY'] - xmean)**2\n",
    "\n",
    "# Calculate beta and alpha\n",
    "beta = df_model['xycov'].sum() / df_model['xvar'].sum()\n",
    "alpha = ymean - (beta * xmean)\n",
    "print(f'alpha = {alpha}')\n",
    "print(f'beta = {beta}')\n"
   ]
  },
  {
   "cell_type": "code",
   "execution_count": 25,
   "metadata": {},
   "outputs": [
    {
     "name": "stderr",
     "output_type": "stream",
     "text": [
      "C:\\Users\\conno\\AppData\\Local\\Temp/ipykernel_14388/1756917296.py:1: DeprecationWarning: np.asscalar(a) is deprecated since NumPy v1.16, use a.item() instead\n",
      "  alpha = np.asscalar(alpha)\n",
      "C:\\Users\\conno\\AppData\\Local\\Temp/ipykernel_14388/1756917296.py:2: DeprecationWarning: np.asscalar(a) is deprecated since NumPy v1.16, use a.item() instead\n",
      "  beta = np.asscalar(beta)\n"
     ]
    }
   ],
   "source": [
    "alpha = np.asscalar(alpha)\n",
    "beta = np.asscalar(beta)"
   ]
  },
  {
   "cell_type": "code",
   "execution_count": 27,
   "metadata": {},
   "outputs": [
    {
     "name": "stderr",
     "output_type": "stream",
     "text": [
      "C:\\Users\\conno\\AppData\\Local\\Temp/ipykernel_14388/2348165249.py:1: SettingWithCopyWarning: \n",
      "A value is trying to be set on a copy of a slice from a DataFrame.\n",
      "Try using .loc[row_indexer,col_indexer] = value instead\n",
      "\n",
      "See the caveats in the documentation: https://pandas.pydata.org/pandas-docs/stable/user_guide/indexing.html#returning-a-view-versus-a-copy\n",
      "  df_model['PctIncYOY'] = pd.to_numeric(df_model['PctIncYOY'], errors='coerce')\n"
     ]
    }
   ],
   "source": [
    "df_model['PctIncYOY'] = pd.to_numeric(df_model['PctIncYOY'], errors='coerce')"
   ]
  },
  {
   "cell_type": "code",
   "execution_count": 38,
   "metadata": {},
   "outputs": [],
   "source": [
    "ypred = alpha + beta * (df_model['PctIncYOY'].to_numpy())"
   ]
  },
  {
   "cell_type": "code",
   "execution_count": 13,
   "metadata": {},
   "outputs": [],
   "source": [
    "df_model = df_model[~pd.to_numeric(df_model['PctIncYOY'], errors='coerce').isnull()]"
   ]
  },
  {
   "cell_type": "code",
   "execution_count": null,
   "metadata": {},
   "outputs": [],
   "source": [
    "df_model['PctIncYOY'].to_numpy() * beta"
   ]
  },
  {
   "cell_type": "code",
   "execution_count": 14,
   "metadata": {},
   "outputs": [
    {
     "data": {
      "text/html": [
       "<div>\n",
       "<style scoped>\n",
       "    .dataframe tbody tr th:only-of-type {\n",
       "        vertical-align: middle;\n",
       "    }\n",
       "\n",
       "    .dataframe tbody tr th {\n",
       "        vertical-align: top;\n",
       "    }\n",
       "\n",
       "    .dataframe thead th {\n",
       "        text-align: right;\n",
       "    }\n",
       "</style>\n",
       "<table border=\"1\" class=\"dataframe\">\n",
       "  <thead>\n",
       "    <tr style=\"text-align: right;\">\n",
       "      <th></th>\n",
       "      <th>PctIncYOY</th>\n",
       "      <th>Price_Change</th>\n",
       "      <th>xycov</th>\n",
       "      <th>xvar</th>\n",
       "    </tr>\n",
       "  </thead>\n",
       "  <tbody>\n",
       "  </tbody>\n",
       "</table>\n",
       "</div>"
      ],
      "text/plain": [
       "Empty DataFrame\n",
       "Columns: [PctIncYOY, Price_Change, xycov, xvar]\n",
       "Index: []"
      ]
     },
     "execution_count": 14,
     "metadata": {},
     "output_type": "execute_result"
    }
   ],
   "source": [
    "df_model[pd.to_numeric(df_model['Price_Change'], errors='coerce').isnull()]"
   ]
  },
  {
   "cell_type": "code",
   "execution_count": 1,
   "metadata": {},
   "outputs": [],
   "source": [
    "import pandas as pd\n",
    "df_model = pd.read_csv('model1.csv', index_col=0)"
   ]
  },
  {
   "cell_type": "code",
   "execution_count": 41,
   "metadata": {
    "tags": []
   },
   "outputs": [
    {
     "data": {
      "image/png": "[encoded data removed]",
      "text/plain": [
       "<Figure size 864x432 with 1 Axes>"
      ]
     },
     "metadata": {
      "needs_background": "light"
     },
     "output_type": "display_data"
    }
   ],
   "source": [
    "\n",
    "from matplotlib import pyplot as plt\n",
    "# Plot regression against actual data\n",
    "plt.figure(figsize=(12, 6))\n",
    "plt.plot(df_model['PctIncYOY'].to_numpy(), ypred)     # regression line\n",
    "plt.plot(df_model['PctIncYOY'].to_numpy(), df_model['Price_Change'].to_numpy(), 'ro')   # scatter plot showing actual data\n",
    "plt.title('Actual vs Predicted')\n",
    "plt.xlabel('X')\n",
    "plt.ylabel('y')\n",
    "\n",
    "plt.show()\n",
    "\n"
   ]
  },
  {
   "cell_type": "code",
   "execution_count": 43,
   "metadata": {},
   "outputs": [
    {
     "name": "stdout",
     "output_type": "stream",
     "text": [
      "Ttest_indResult(statistic=0.8424745663711839, pvalue=0.3997792985826901)\n"
     ]
    }
   ],
   "source": [
    "#p-value test\n",
    "from scipy.stats import ttest_ind\n",
    "\n",
    "v1 = df_model['PctIncYOY'].to_numpy()\n",
    "v2 = df_model['Price_Change'].to_numpy()\n",
    "\n",
    "res = ttest_ind(v1, v2)\n",
    "print(res)"
   ]
  },
  {
   "cell_type": "code",
   "execution_count": 44,
   "metadata": {
    "scrolled": true,
    "tags": []
   },
   "outputs": [
    {
     "name": "stdout",
     "output_type": "stream",
     "text": [
      "            Date   Value Ticker        pct\n",
      "1     2021-09-30  134.33   TTEC   0.229228\n",
      "2     2021-06-30  109.28   TTEC   0.876052\n",
      "3     2021-03-31   58.25   TTEC  -0.725456\n",
      "4     2020-12-31  212.17   TTEC   0.526732\n",
      "5     2020-09-30  138.97   TTEC   0.893840\n",
      "...          ...     ...    ...        ...\n",
      "1584  2010-03-31   10.22    DAR  -0.822137\n",
      "1585  2009-12-31   57.46    DAR   0.544209\n",
      "1586  2009-09-30   37.21    DAR   0.679910\n",
      "1587  2009-06-30   22.15    DAR  16.038462\n",
      "1588  2009-03-31    1.30    DAR        NaN\n",
      "\n",
      "[1493 rows x 4 columns]\n"
     ]
    }
   ],
   "source": [
    "#Calculate Free Cash Flow Percent Change from Previous Quarter\n",
    "\n",
    "import pandas as pd\n",
    "df_pct_change = pd.read_csv('output_fcf.csv', index_col=0)\n",
    "df_pct_change = df_pct_change.dropna(how='any',axis=0) \n",
    "df_pct_change['Value'] = pd.to_numeric(df_pct_change['Value'],errors='coerce')\n",
    "df_pct_change['pct'] = df_pct_change.sort_values('Date', axis=0, ascending=True).groupby(['Ticker']).Value.pct_change()\n",
    "df_pct_change.to_csv('fcf_pct_change.csv')\n",
    "print(df_pct_change)"
   ]
  },
  {
   "cell_type": "code",
   "execution_count": 63,
   "metadata": {},
   "outputs": [
    {
     "name": "stdout",
     "output_type": "stream",
     "text": [
      "['TTEC' 'CSV' 'PPBI' 'AEL' 'RHP' 'LXFR' 'MELI' 'EQIX' 'CCOI' 'DLR' 'SOHO'\n",
      " 'VYNT' 'DTIL' 'WLDN' 'AQST' 'EFC' 'PMT' 'RKDA' 'NUWE' 'IROQ' 'FPI' 'NAVI'\n",
      " 'GMS' 'RETC' 'WORX' 'SURF' 'BXRX' 'LUCD' 'QS' 'RBOT' 'RCHG' 'PV' 'LFTR'\n",
      " 'CTKB' 'NSTC' 'FMIV' 'CTO' 'CSX' 'VAL' 'CVBF' 'HWM' 'GOVX' 'SDON' 'SUI'\n",
      " 'DAR']\n",
      "           Date   Value Ticker       pct  Counter\n",
      "1    2021-09-30  134.33   TTEC  0.229228      1.0\n",
      "2    2021-06-30  109.28   TTEC  0.876052      0.0\n",
      "3    2021-03-31   58.25   TTEC -0.725456      3.0\n",
      "4    2020-12-31  212.17   TTEC  0.526732      2.0\n",
      "5    2020-09-30  138.97   TTEC  0.893840      1.0\n",
      "..          ...     ...    ...       ...      ...\n",
      "208         NaN     NaN    NaN       NaN      2.0\n",
      "156         NaN     NaN    NaN       NaN      0.0\n",
      "104         NaN     NaN    NaN       NaN      0.0\n",
      "52          NaN     NaN    NaN       NaN      1.0\n",
      "0           NaN     NaN    NaN       NaN      2.0\n",
      "\n",
      "[1588 rows x 5 columns]\n"
     ]
    }
   ],
   "source": [
    "#count number of consecutive positive quarters\n",
    "\n",
    "import pandas as pd\n",
    "\n",
    "def get_fcf_counts(tickers,df):\n",
    "    df[\"Counter\"] = 0\n",
    "    counter2 = 0\n",
    "    counter = -1\n",
    "    #l = df[df['Ticker'].str.contains(i)]\n",
    "    for j in range(len(df)-1,-1,-1):\n",
    "        if counter2 != 0: \n",
    "            if j != 0:\n",
    "                if df['Ticker'].iloc[j] != df['Ticker'].iloc[j-1]:\n",
    "                    counter = 0\n",
    "        if df['pct'].iloc[j] > 0.00:\n",
    "            counter = counter + 1\n",
    "        else:\n",
    "            counter = 0\n",
    "            \n",
    "        df.at[j,'Counter']= counter\n",
    "            \n",
    "        counter2 = counter2 + 1\n",
    "    return df        \n",
    "            \n",
    "            \n",
    "df_pct_change = pd.read_csv(\"fcf_pct_change.csv\",index_col=0)\n",
    "df_pct_change = df_pct_change[~df_pct_change['Date'].isnull()]           \n",
    "print(df_pct_change['Ticker'].unique())\n",
    "df_test = get_fcf_counts(df_pct_change['Ticker'].unique(), df_pct_change)\n",
    "print(df_test)\n"
   ]
  },
  {
   "cell_type": "code",
   "execution_count": 62,
   "metadata": {},
   "outputs": [
    {
     "data": {
      "text/html": [
       "<div>\n",
       "<style scoped>\n",
       "    .dataframe tbody tr th:only-of-type {\n",
       "        vertical-align: middle;\n",
       "    }\n",
       "\n",
       "    .dataframe tbody tr th {\n",
       "        vertical-align: top;\n",
       "    }\n",
       "\n",
       "    .dataframe thead th {\n",
       "        text-align: right;\n",
       "    }\n",
       "</style>\n",
       "<table border=\"1\" class=\"dataframe\">\n",
       "  <thead>\n",
       "    <tr style=\"text-align: right;\">\n",
       "      <th></th>\n",
       "      <th>Date</th>\n",
       "      <th>Value</th>\n",
       "      <th>Ticker</th>\n",
       "      <th>pct</th>\n",
       "      <th>Counter</th>\n",
       "    </tr>\n",
       "  </thead>\n",
       "  <tbody>\n",
       "    <tr>\n",
       "      <th>1</th>\n",
       "      <td>2021-09-30</td>\n",
       "      <td>134.33</td>\n",
       "      <td>TTEC</td>\n",
       "      <td>0.229228</td>\n",
       "      <td>1.0</td>\n",
       "    </tr>\n",
       "    <tr>\n",
       "      <th>2</th>\n",
       "      <td>2021-06-30</td>\n",
       "      <td>109.28</td>\n",
       "      <td>TTEC</td>\n",
       "      <td>0.876052</td>\n",
       "      <td>0.0</td>\n",
       "    </tr>\n",
       "    <tr>\n",
       "      <th>3</th>\n",
       "      <td>2021-03-31</td>\n",
       "      <td>58.25</td>\n",
       "      <td>TTEC</td>\n",
       "      <td>-0.725456</td>\n",
       "      <td>1.0</td>\n",
       "    </tr>\n",
       "    <tr>\n",
       "      <th>4</th>\n",
       "      <td>2020-12-31</td>\n",
       "      <td>212.17</td>\n",
       "      <td>TTEC</td>\n",
       "      <td>0.526732</td>\n",
       "      <td>2.0</td>\n",
       "    </tr>\n",
       "    <tr>\n",
       "      <th>5</th>\n",
       "      <td>2020-09-30</td>\n",
       "      <td>138.97</td>\n",
       "      <td>TTEC</td>\n",
       "      <td>0.893840</td>\n",
       "      <td>3.0</td>\n",
       "    </tr>\n",
       "    <tr>\n",
       "      <th>...</th>\n",
       "      <td>...</td>\n",
       "      <td>...</td>\n",
       "      <td>...</td>\n",
       "      <td>...</td>\n",
       "      <td>...</td>\n",
       "    </tr>\n",
       "    <tr>\n",
       "      <th>1585</th>\n",
       "      <td>2009-12-31</td>\n",
       "      <td>57.46</td>\n",
       "      <td>DAR</td>\n",
       "      <td>0.544209</td>\n",
       "      <td>0.0</td>\n",
       "    </tr>\n",
       "    <tr>\n",
       "      <th>1586</th>\n",
       "      <td>2009-09-30</td>\n",
       "      <td>37.21</td>\n",
       "      <td>DAR</td>\n",
       "      <td>0.679910</td>\n",
       "      <td>0.0</td>\n",
       "    </tr>\n",
       "    <tr>\n",
       "      <th>1587</th>\n",
       "      <td>2009-06-30</td>\n",
       "      <td>22.15</td>\n",
       "      <td>DAR</td>\n",
       "      <td>16.038462</td>\n",
       "      <td>0.0</td>\n",
       "    </tr>\n",
       "    <tr>\n",
       "      <th>1588</th>\n",
       "      <td>2009-03-31</td>\n",
       "      <td>1.30</td>\n",
       "      <td>DAR</td>\n",
       "      <td>NaN</td>\n",
       "      <td>0.0</td>\n",
       "    </tr>\n",
       "    <tr>\n",
       "      <th>0</th>\n",
       "      <td>NaN</td>\n",
       "      <td>NaN</td>\n",
       "      <td>NaN</td>\n",
       "      <td>NaN</td>\n",
       "      <td>0.0</td>\n",
       "    </tr>\n",
       "  </tbody>\n",
       "</table>\n",
       "<p>1494 rows × 5 columns</p>\n",
       "</div>"
      ],
      "text/plain": [
       "            Date   Value Ticker        pct  Counter\n",
       "1     2021-09-30  134.33   TTEC   0.229228      1.0\n",
       "2     2021-06-30  109.28   TTEC   0.876052      0.0\n",
       "3     2021-03-31   58.25   TTEC  -0.725456      1.0\n",
       "4     2020-12-31  212.17   TTEC   0.526732      2.0\n",
       "5     2020-09-30  138.97   TTEC   0.893840      3.0\n",
       "...          ...     ...    ...        ...      ...\n",
       "1585  2009-12-31   57.46    DAR   0.544209      0.0\n",
       "1586  2009-09-30   37.21    DAR   0.679910      0.0\n",
       "1587  2009-06-30   22.15    DAR  16.038462      0.0\n",
       "1588  2009-03-31    1.30    DAR        NaN      0.0\n",
       "0            NaN     NaN    NaN        NaN      0.0\n",
       "\n",
       "[1494 rows x 5 columns]"
      ]
     },
     "execution_count": 62,
     "metadata": {},
     "output_type": "execute_result"
    }
   ],
   "source": []
  },
  {
   "cell_type": "code",
   "execution_count": 66,
   "metadata": {},
   "outputs": [
    {
     "name": "stdout",
     "output_type": "stream",
     "text": [
      "Empty DataFrame\n",
      "Columns: [Period, FCF, Ticker, FCF_PCT_CHANGE, Unnamed: 0, cik, company.name, date.filed, 90_DAYS, Filed_Close_Price, 90_Days_Close_Price, Price_Change, Pct_Change_Price]\n",
      "Index: []\n"
     ]
    }
   ],
   "source": [
    "#Merge Percent Change of Free Cash Flow with Stock Price Change Dataframe\n",
    "\n",
    "\n",
    "import pandas as pd\n",
    "df_stock_prices = pd.read_csv('stock_prices_90_days_pct_changev2.csv')\n",
    "df_fcf = pd.read_csv('fcf_pct_change.csv', index_col=0)\n",
    "df_stock_prices = df_stock_prices.rename(columns = {'period.of.report': 'Date', 'ticker': 'Ticker'})\n",
    "df_fcf_merged = pd.merge(df_fcf, \n",
    "                      df_stock_prices, \n",
    "                      how ='inner',\n",
    "                      on =['Date','Ticker'] )\n",
    "\n",
    "df_fcf_merged.drop(['Unnamed: 0'], axis=1)\n",
    "df_fcf_merged = df_fcf_merged.rename(columns = {'Date': 'Period', 'pct': 'FCF_PCT_CHANGE', 'Value': 'FCF'})\n",
    "print(df_fcf_merged)\n",
    "df_fcf_merged.to_csv('stock_prices_90_days_FCF.csv')"
   ]
  },
  {
   "cell_type": "code",
   "execution_count": 67,
   "metadata": {},
   "outputs": [
    {
     "name": "stdout",
     "output_type": "stream",
     "text": [
      "Empty DataFrame\n",
      "Columns: [Period, FCF, Ticker, FCF_PCT_CHANGE, Counter, cik, company.name, date.filed, 90_DAYS, Filed_Close_Price, 90_Days_Close_Price, Price_Change, Pct_Change_Price]\n",
      "Index: []\n"
     ]
    }
   ],
   "source": [
    "df_stock_prices = pd.read_csv('stock_prices_90_days_pct_changev2.csv',index_col=0)\n",
    "df_stock_prices = df_stock_prices.rename(columns = {'period.of.report': 'Date', 'ticker': 'Ticker'})\n",
    "df_fcf_merged = pd.merge(df_test, \n",
    "                      df_stock_prices, \n",
    "                      how ='inner',\n",
    "                      on =['Date','Ticker'] )\n",
    "\n",
    "df_fcf_merged = df_fcf_merged.rename(columns = {'Date': 'Period', 'pct': 'FCF_PCT_CHANGE', 'Value': 'FCF'})\n",
    "print(df_fcf_merged)"
   ]
  },
  {
   "cell_type": "code",
   "execution_count": 69,
   "metadata": {},
   "outputs": [
    {
     "data": {
      "text/html": [
       "<div>\n",
       "<style scoped>\n",
       "    .dataframe tbody tr th:only-of-type {\n",
       "        vertical-align: middle;\n",
       "    }\n",
       "\n",
       "    .dataframe tbody tr th {\n",
       "        vertical-align: top;\n",
       "    }\n",
       "\n",
       "    .dataframe thead th {\n",
       "        text-align: right;\n",
       "    }\n",
       "</style>\n",
       "<table border=\"1\" class=\"dataframe\">\n",
       "  <thead>\n",
       "    <tr style=\"text-align: right;\">\n",
       "      <th></th>\n",
       "      <th>Date</th>\n",
       "      <th>Value</th>\n",
       "      <th>Ticker</th>\n",
       "      <th>pct</th>\n",
       "      <th>Counter</th>\n",
       "    </tr>\n",
       "  </thead>\n",
       "  <tbody>\n",
       "    <tr>\n",
       "      <th>1</th>\n",
       "      <td>2021-09-30</td>\n",
       "      <td>134.33</td>\n",
       "      <td>TTEC</td>\n",
       "      <td>0.229228</td>\n",
       "      <td>1.0</td>\n",
       "    </tr>\n",
       "    <tr>\n",
       "      <th>2</th>\n",
       "      <td>2021-06-30</td>\n",
       "      <td>109.28</td>\n",
       "      <td>TTEC</td>\n",
       "      <td>0.876052</td>\n",
       "      <td>0.0</td>\n",
       "    </tr>\n",
       "    <tr>\n",
       "      <th>3</th>\n",
       "      <td>2021-03-31</td>\n",
       "      <td>58.25</td>\n",
       "      <td>TTEC</td>\n",
       "      <td>-0.725456</td>\n",
       "      <td>3.0</td>\n",
       "    </tr>\n",
       "    <tr>\n",
       "      <th>4</th>\n",
       "      <td>2020-12-31</td>\n",
       "      <td>212.17</td>\n",
       "      <td>TTEC</td>\n",
       "      <td>0.526732</td>\n",
       "      <td>2.0</td>\n",
       "    </tr>\n",
       "    <tr>\n",
       "      <th>5</th>\n",
       "      <td>2020-09-30</td>\n",
       "      <td>138.97</td>\n",
       "      <td>TTEC</td>\n",
       "      <td>0.893840</td>\n",
       "      <td>1.0</td>\n",
       "    </tr>\n",
       "    <tr>\n",
       "      <th>...</th>\n",
       "      <td>...</td>\n",
       "      <td>...</td>\n",
       "      <td>...</td>\n",
       "      <td>...</td>\n",
       "      <td>...</td>\n",
       "    </tr>\n",
       "    <tr>\n",
       "      <th>208</th>\n",
       "      <td>NaN</td>\n",
       "      <td>NaN</td>\n",
       "      <td>NaN</td>\n",
       "      <td>NaN</td>\n",
       "      <td>2.0</td>\n",
       "    </tr>\n",
       "    <tr>\n",
       "      <th>156</th>\n",
       "      <td>NaN</td>\n",
       "      <td>NaN</td>\n",
       "      <td>NaN</td>\n",
       "      <td>NaN</td>\n",
       "      <td>0.0</td>\n",
       "    </tr>\n",
       "    <tr>\n",
       "      <th>104</th>\n",
       "      <td>NaN</td>\n",
       "      <td>NaN</td>\n",
       "      <td>NaN</td>\n",
       "      <td>NaN</td>\n",
       "      <td>0.0</td>\n",
       "    </tr>\n",
       "    <tr>\n",
       "      <th>52</th>\n",
       "      <td>NaN</td>\n",
       "      <td>NaN</td>\n",
       "      <td>NaN</td>\n",
       "      <td>NaN</td>\n",
       "      <td>1.0</td>\n",
       "    </tr>\n",
       "    <tr>\n",
       "      <th>0</th>\n",
       "      <td>NaN</td>\n",
       "      <td>NaN</td>\n",
       "      <td>NaN</td>\n",
       "      <td>NaN</td>\n",
       "      <td>2.0</td>\n",
       "    </tr>\n",
       "  </tbody>\n",
       "</table>\n",
       "<p>1588 rows × 5 columns</p>\n",
       "</div>"
      ],
      "text/plain": [
       "           Date   Value Ticker       pct  Counter\n",
       "1    2021-09-30  134.33   TTEC  0.229228      1.0\n",
       "2    2021-06-30  109.28   TTEC  0.876052      0.0\n",
       "3    2021-03-31   58.25   TTEC -0.725456      3.0\n",
       "4    2020-12-31  212.17   TTEC  0.526732      2.0\n",
       "5    2020-09-30  138.97   TTEC  0.893840      1.0\n",
       "..          ...     ...    ...       ...      ...\n",
       "208         NaN     NaN    NaN       NaN      2.0\n",
       "156         NaN     NaN    NaN       NaN      0.0\n",
       "104         NaN     NaN    NaN       NaN      0.0\n",
       "52          NaN     NaN    NaN       NaN      1.0\n",
       "0           NaN     NaN    NaN       NaN      2.0\n",
       "\n",
       "[1588 rows x 5 columns]"
      ]
     },
     "execution_count": 69,
     "metadata": {},
     "output_type": "execute_result"
    }
   ],
   "source": [
    "df_test"
   ]
  },
  {
   "cell_type": "code",
   "execution_count": null,
   "metadata": {},
   "outputs": [],
   "source": [
    "def changeOrder(x):\n",
    "    if x != \"NA\":\n",
    "        date_time_obj = datetime.strptime(x, '%Y/%m/%d').date()\n",
    "        \n",
    "        return date_time_obj.strftime('%#m/%d/%y')\n",
    "    return \"NA\"\n",
    "\n",
    "allfcf['period.of.report'] = allfcf['Date'].apply(changeOrder)\n",
    "allfcf.head()\n",
    "\n",
    "\n",
    "#get ready \n",
    "\n"
   ]
  }
 ],
 "metadata": {
  "interpreter": {
   "hash": "aee8b7b246df8f9039afb4144a1f6fd8d2ca17a180786b69acc140d282b71a49"
  },
  "kernelspec": {
   "display_name": "Python 3 (ipykernel)",
   "language": "python",
   "name": "python3"
  },
  "language_info": {
   "codemirror_mode": {
    "name": "ipython",
    "version": 3
   },
   "file_extension": ".py",
   "mimetype": "text/x-python",
   "name": "python",
   "nbconvert_exporter": "python",
   "pygments_lexer": "ipython3",
   "version": "3.9.7"
  }
 },
 "nbformat": 4,
 "nbformat_minor": 4
}
